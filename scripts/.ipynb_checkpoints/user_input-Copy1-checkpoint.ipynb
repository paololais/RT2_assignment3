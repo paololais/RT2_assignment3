{
 "cells": [
  {
   "cell_type": "code",
   "execution_count": 2,
   "id": "df2ffe66",
   "metadata": {},
   "outputs": [],
   "source": [
    "# ROS imports\n",
    "import rospy\n",
    "import actionlib\n",
    "from geometry_msgs.msg import Pose, Twist\n",
    "from nav_msgs.msg import Odometry\n",
    "from sensor_msgs.msg import LaserScan\n",
    "from assignment_2_2024.msg import PlanningAction, PlanningGoal, PositionVelocity\n",
    "from actionlib_msgs.msg import GoalStatus\n",
    "\n",
    "# Widgets and plotting\n",
    "from ipywidgets import BoundedFloatText, Button, VBox, HBox, Box, Label, Output, Layout\n",
    "from IPython.display import display\n",
    "import matplotlib.pyplot as plt\n",
    "from matplotlib.animation import FuncAnimation\n",
    "\n",
    "import time"
   ]
  },
  {
   "cell_type": "code",
   "execution_count": 3,
   "id": "7c0bf6f3",
   "metadata": {},
   "outputs": [
    {
     "data": {
      "text/plain": [
       "True"
      ]
     },
     "execution_count": 3,
     "metadata": {},
     "output_type": "execute_result"
    }
   ],
   "source": [
    "# ---- Initialize ROS Node ----\n",
    "rospy.init_node('notebook_client', anonymous=True)\n",
    "\n",
    "# Action client\n",
    "client = actionlib.SimpleActionClient('/reaching_goal', PlanningAction)\n",
    "client.wait_for_server()"
   ]
  },
  {
   "cell_type": "code",
   "execution_count": 4,
   "id": "ed1cadec",
   "metadata": {},
   "outputs": [],
   "source": [
    "# Global variables to store robot info\n",
    "current_pos = {\"x\": 0.0, \"y\": 0.0}\n",
    "robot_path = []\n",
    "obstacle_distance = float('inf')\n",
    "reached_goals = 0\n",
    "cancelled_goals = 0\n",
    "goal_start_time = None"
   ]
  },
  {
   "cell_type": "code",
   "execution_count": 5,
   "id": "fe49034a",
   "metadata": {},
   "outputs": [],
   "source": [
    "# ---- Widgets ----\n",
    "x_input = BoundedFloatText(\n",
    "    description='Target X:',\n",
    "    value=0.0,\n",
    "    min=-10.0,\n",
    "    max=10.0,\n",
    "    step=0.1\n",
    ")\n",
    "\n",
    "y_input = BoundedFloatText(\n",
    "    description='Target Y:',\n",
    "    value=0.0,\n",
    "    min=-10.0,\n",
    "    max=10.0,\n",
    "    step=0.1\n",
    ")\n",
    "btn_set = Button(description='Set Goal', button_style='success')\n",
    "btn_cancel = Button(description='Cancel Goal', button_style='danger')\n",
    "info_pos = Label(\"Current Pos: (0.00, 0.00)\")\n",
    "info_vel = Label(\"Velocity: 0.00 lin / 0.00 ang\")\n",
    "info_obs = Label(\"Closest Obstacle: N/A\")\n",
    "goal_output = Output()"
   ]
  },
  {
   "cell_type": "code",
   "execution_count": 6,
   "id": "85cedc52",
   "metadata": {},
   "outputs": [],
   "source": [
    "# ---- Callbacks ----\n",
    "def odom_callback(msg):\n",
    "    global current_pos, robot_path\n",
    "    current_pos['x'] = msg.pose.pose.position.x\n",
    "    current_pos['y'] = msg.pose.pose.position.y\n",
    "    vx = msg.twist.twist.linear.x\n",
    "    vz = msg.twist.twist.angular.z\n",
    "    robot_path.append((current_pos['x'], current_pos['y']))\n",
    "\n",
    "    info_pos.value = f\"Current Pos: ({current_pos['x']:.2f}, {current_pos['y']:.2f})\"\n",
    "    info_vel.value = f\"Velocity: {vx:.2f} lin / {vz:.2f} ang\"\n",
    "\n",
    "def scan_callback(msg):\n",
    "    global obstacle_distance\n",
    "    valid_ranges = [r for r in msg.ranges if r > 0.01]\n",
    "    if valid_ranges:\n",
    "        obstacle_distance = min(valid_ranges)\n",
    "        info_obs.value = f\"Closest Obstacle: {obstacle_distance:.2f} m\""
   ]
  },
  {
   "cell_type": "code",
   "execution_count": 7,
   "id": "cedaf219",
   "metadata": {},
   "outputs": [],
   "source": [
    "# ---- Action Functions ----\n",
    "def send_goal(btn):\n",
    "    global goal_start_time\n",
    "    goal = PlanningGoal()\n",
    "    goal.target_pose.pose.position.x = x_input.value\n",
    "    goal.target_pose.pose.position.y = y_input.value\n",
    "    \n",
    "    goal_start_time = time.time()  # Record time when goal is sent\n",
    "    client.send_goal(goal, done_cb=goal_done_callback)\n",
    "\n",
    "    with goal_output:\n",
    "        print(f\"Sent goal to ({x_input.value}, {y_input.value})\")\n",
    "\n",
    "def goal_done_callback(state, result):\n",
    "    global reached_goals, goal_start_time\n",
    "    \n",
    "    time_taken = time.time() - goal_start_time if goal_start_time else 0\n",
    "\n",
    "    # Callback when goal is done\n",
    "    if state == GoalStatus.SUCCEEDED:\n",
    "        reached_goals += 1\n",
    "        with goal_output:\n",
    "            print(f\"Goal successfully reached in {time_taken:.2f} seconds\")\n",
    "    else:\n",
    "        with goal_output:\n",
    "            print(f\"Goal finished with state: {state} after {time_taken:.2f} seconds\")\n",
    "\n",
    "def cancel_goal(btn):\n",
    "    global cancelled_goals\n",
    "\n",
    "    # Check if the goal is still active or pending\n",
    "    state = client.get_state()\n",
    "    if state in [GoalStatus.ACTIVE, GoalStatus.PENDING]:\n",
    "        client.cancel_goal()\n",
    "        cancelled_goals += 1\n",
    "        with goal_output:\n",
    "            print(\"Goal cancelled\")\n",
    "    else:\n",
    "        with goal_output:\n",
    "            print(\"No active goal to cancel\")"
   ]
  },
  {
   "cell_type": "code",
   "execution_count": 8,
   "id": "599d083c",
   "metadata": {},
   "outputs": [
    {
     "data": {
      "text/plain": [
       "<rospy.topics.Subscriber at 0x74f4f84d8fa0>"
      ]
     },
     "execution_count": 8,
     "metadata": {},
     "output_type": "execute_result"
    }
   ],
   "source": [
    "# ---- Subscribers ----\n",
    "rospy.Subscriber(\"/odom\", Odometry, odom_callback)\n",
    "rospy.Subscriber(\"/scan\", LaserScan, scan_callback)"
   ]
  },
  {
   "cell_type": "code",
   "execution_count": 9,
   "id": "04c1b65d",
   "metadata": {},
   "outputs": [
    {
     "data": {
      "application/vnd.jupyter.widget-view+json": {
       "model_id": "b74ceb073dbc4dcd976f5a90f71f71c8",
       "version_major": 2,
       "version_minor": 0
      },
      "text/plain": [
       "Canvas(toolbar=Toolbar(toolitems=[('Home', 'Reset original view', 'home', 'home'), ('Back', 'Back to previous …"
      ]
     },
     "metadata": {},
     "output_type": "display_data"
    },
    {
     "data": {
      "application/vnd.jupyter.widget-view+json": {
       "model_id": "ed5791aa5a4a40fca755cc907f436fa3",
       "version_major": 2,
       "version_minor": 0
      },
      "text/plain": [
       "VBox(children=(HBox(children=(VBox(children=(BoundedFloatText(value=0.0, description='Target X:', max=10.0, mi…"
      ]
     },
     "metadata": {},
     "output_type": "display_data"
    }
   ],
   "source": [
    "# ---- Plot robot's position and reached/cancelled goals ----\n",
    "%matplotlib widget\n",
    "fig, (ax_path, ax_bar) = plt.subplots(1, 2, figsize=(9, 4))\n",
    "\n",
    "# Path plot\n",
    "robot_line, = ax_path.plot([], [], 'b.-', label='Path')\n",
    "ax_path.set_title(\"Robot Position\")\n",
    "ax_path.set_xlabel(\"X\")\n",
    "ax_path.set_ylabel(\"Y\")\n",
    "ax_path.set_xlim(10, -10)\n",
    "ax_path.set_ylim(10, -10)\n",
    "ax_path.grid(True)\n",
    "ax_path.legend()\n",
    "\n",
    "# Bar plot\n",
    "bar_plot = ax_bar.bar(['Reached', 'Cancelled'], [0, 0], color=['green', 'red'])\n",
    "ax_bar.set_ylim(0, 10)\n",
    "ax_bar.set_title(\"Goal Status\")\n",
    "\n",
    "def update_plot(frame):\n",
    "    if robot_path:\n",
    "        xs, ys = zip(*robot_path)\n",
    "        robot_line.set_data(xs, ys)\n",
    "        ax_path.relim()\n",
    "        ax_path.autoscale_view()\n",
    "\n",
    "    bar_plot[0].set_height(reached_goals)\n",
    "    bar_plot[1].set_height(cancelled_goals)\n",
    "    ax_bar.set_ylim(0, max(10, reached_goals + cancelled_goals + 1))\n",
    "\n",
    "ani = FuncAnimation(fig, update_plot, interval=500)\n",
    "\n",
    "# ---- Widget Events ----\n",
    "btn_set.on_click(send_goal)\n",
    "btn_cancel.on_click(cancel_goal)\n",
    "\n",
    "# ---- User Interface to set target, display info\n",
    "spacer = Box(layout=Layout(width='30px'))\n",
    "ui = VBox([\n",
    "    HBox([\n",
    "        VBox([x_input, y_input, HBox([btn_set, btn_cancel])]),\n",
    "        spacer,\n",
    "        VBox([info_pos,info_vel,info_obs])  \n",
    "    ]),\n",
    "    \n",
    "    goal_output\n",
    "])\n",
    "\n",
    "display(ui)\n"
   ]
  },
  {
   "cell_type": "code",
   "execution_count": null,
   "id": "2ae29be2",
   "metadata": {},
   "outputs": [],
   "source": []
  }
 ],
 "metadata": {
  "kernelspec": {
   "display_name": "Python 3 (ipykernel)",
   "language": "python",
   "name": "python3"
  },
  "language_info": {
   "codemirror_mode": {
    "name": "ipython",
    "version": 3
   },
   "file_extension": ".py",
   "mimetype": "text/x-python",
   "name": "python",
   "nbconvert_exporter": "python",
   "pygments_lexer": "ipython3",
   "version": "3.8.5"
  }
 },
 "nbformat": 4,
 "nbformat_minor": 5
}
